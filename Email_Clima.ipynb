{
 "cells": [
  {
   "cell_type": "markdown",
   "id": "6601160b-0976-4516-80ae-e402ff9e3088",
   "metadata": {},
   "source": [
    "# Automação de processos - Email automático\\Clima"
   ]
  },
  {
   "cell_type": "code",
   "execution_count": 2,
   "id": "b7706575-df4b-4a84-92cc-9a524607f703",
   "metadata": {},
   "outputs": [],
   "source": [
    "import requests\n",
    "import datetime\n",
    "import locale"
   ]
  },
  {
   "cell_type": "code",
   "execution_count": 6,
   "id": "c7280b50-856e-4acc-bab9-3ad393adf6a7",
   "metadata": {},
   "outputs": [],
   "source": [
    "api_key = \"1e0ccf6dc06072e3cf91ff5b05cbf4e2\"\n",
    "\n",
    "cities = (\"Fortaleza\", \"Sobral\", \"Acaraú\", \"Itarema\")\n",
    "cities_dic = []\n",
    "\n",
    "for index in range(4):\n",
    "    address = f\"https://api.openweathermap.org/data/2.5/weather?q={cities[index]}&appid={api_key}&lang=pt_br&units=metric\"\n",
    "    rqt = requests.get(address)\n",
    "    locale.setlocale(locale.LC_TIME, 'pt_BR.UTF-8')\n",
    "    date_time = datetime.datetime.now()\n",
    "    formated_date = date_time.strftime('%d\\%m\\%y (%a) - %H:%M:%S')\n",
    "    cities_dic.append(rqt.json())"
   ]
  },
  {
   "cell_type": "code",
   "execution_count": 91,
   "id": "6a3bfeee-a656-4aa1-8771-91a12d535460",
   "metadata": {},
   "outputs": [
    {
     "name": "stdout",
     "output_type": "stream",
     "text": [
      "\n",
      "Olá, Gabriel\n",
      "Novas informações climáticas já estão disponíveis, seguem os dados:\n",
      "\n",
      "27\\08\\24 (ter) - 14:22:10\n",
      "\n",
      "Cidade: Fortaleza\n",
      "Status: algumas nuvens\n",
      "Temperatura: 29.86°\n",
      "Temperatura mínima: 29.07°\n",
      "Temperatura máxima: 31.16°\n",
      "Sensação térmica: 36.86°\n",
      "Humidade do ar: 80%\n",
      "Pressão atmosférica: 1013 hpa\n",
      "Velocidade do vento: 8.23 km\\h\n",
      "\n",
      "Cidade: Sobral\n",
      "Status: nuvens dispersas\n",
      "Temperatura: 37.7°\n",
      "Temperatura mínima: 37.7°\n",
      "Temperatura máxima: 37.7°\n",
      "Sensação térmica: 37.2°\n",
      "Umidade do ar: 24%\n",
      "Pressão atmosférica: 1011 hpa\n",
      "Velocidade do vento: 2.98 km\\h\n",
      "\n",
      "Cidade: Acaraú\n",
      "Status: nuvens dispersas\n",
      "Temperatura: 30.9°\n",
      "Temperatura mínima: 30.9°\n",
      "Temperatura máxima: 30.9°\n",
      "Sensação térmica: 33.7°\n",
      "Umidade do ar: 56%\n",
      "Pressão atmosférica: 1012 hpa\n",
      "Velocidade do vento: 8.59 km\\h\n",
      "\n",
      "Cidade: Itarema\n",
      "Status: nuvens dispersas\n",
      "Temperatura: 29.45°\n",
      "Temperatura mínima: 29.45°\n",
      "Temperatura máxima: 29.45°\n",
      "Sensação térmica: 31.64°\n",
      "Umidade do ar: 59%\n",
      "Pressão atmosférica: 1012 hpa\n",
      "Velocidade do vento: 8.92 km\\h\n",
      " \n",
      "Atenciosamente, robô do Python!   \n",
      "\n"
     ]
    }
   ],
   "source": [
    "body = f\"\"\"\n",
    "Olá, Gabriel\n",
    "Novas informações climáticas já estão disponíveis, seguem os dados:\n",
    "\n",
    "{formated_date}\n",
    "\n",
    "Cidade: {cities[0]}\n",
    "Status: {cities_dic[0][\"weather\"][0][\"description\"]}\n",
    "Temperatura: {cities_dic[0][\"main\"][\"temp\"]}°\n",
    "Temperatura mínima: {cities_dic[0][\"main\"][\"temp_min\"]}°\n",
    "Temperatura máxima: {cities_dic[0][\"main\"][\"temp_max\"]}°\n",
    "Sensação térmica: {cities_dic[0][\"main\"][\"feels_like\"]}°\n",
    "Humidade do ar: {cities_dic[0][\"main\"][\"humidity\"]}%\n",
    "Pressão atmosférica: {cities_dic[0][\"main\"][\"pressure\"]} hpa\n",
    "Velocidade do vento: {cities_dic[0][\"wind\"][\"speed\"]} km\\h\n",
    "\n",
    "Cidade: {cities[1]}\n",
    "Status: {cities_dic[1][\"weather\"][0][\"description\"]}\n",
    "Temperatura: {cities_dic[1][\"main\"][\"temp\"]}°\n",
    "Temperatura mínima: {cities_dic[1][\"main\"][\"temp_min\"]}°\n",
    "Temperatura máxima: {cities_dic[1][\"main\"][\"temp_max\"]}°\n",
    "Sensação térmica: {cities_dic[1][\"main\"][\"feels_like\"]}°\n",
    "Umidade do ar: {cities_dic[1][\"main\"][\"humidity\"]}%\n",
    "Pressão atmosférica: {cities_dic[1][\"main\"][\"pressure\"]} hpa\n",
    "Velocidade do vento: {cities_dic[1][\"wind\"][\"speed\"]} km\\h\n",
    "\n",
    "Cidade: {cities[2]}\n",
    "Status: {cities_dic[2][\"weather\"][0][\"description\"]}\n",
    "Temperatura: {cities_dic[2][\"main\"][\"temp\"]}°\n",
    "Temperatura mínima: {cities_dic[2][\"main\"][\"temp_min\"]}°\n",
    "Temperatura máxima: {cities_dic[2][\"main\"][\"temp_max\"]}°\n",
    "Sensação térmica: {cities_dic[2][\"main\"][\"feels_like\"]}°\n",
    "Umidade do ar: {cities_dic[2][\"main\"][\"humidity\"]}%\n",
    "Pressão atmosférica: {cities_dic[2][\"main\"][\"pressure\"]} hpa\n",
    "Velocidade do vento: {cities_dic[2][\"wind\"][\"speed\"]} km\\h\n",
    "\n",
    "Cidade: {cities[3]}\n",
    "Status: {cities_dic[3][\"weather\"][0][\"description\"]}\n",
    "Temperatura: {cities_dic[3][\"main\"][\"temp\"]}°\n",
    "Temperatura mínima: {cities_dic[3][\"main\"][\"temp_min\"]}°\n",
    "Temperatura máxima: {cities_dic[3][\"main\"][\"temp_max\"]}°\n",
    "Sensação térmica: {cities_dic[3][\"main\"][\"feels_like\"]}°\n",
    "Umidade do ar: {cities_dic[3][\"main\"][\"humidity\"]}%\n",
    "Pressão atmosférica: {cities_dic[3][\"main\"][\"pressure\"]} hpa\n",
    "Velocidade do vento: {cities_dic[3][\"wind\"][\"speed\"]} km\\h\n",
    " \n",
    "Atenciosamente, robô do Python!   \n",
    "\"\"\"\n",
    "\n",
    "print(body)"
   ]
  },
  {
   "cell_type": "markdown",
   "id": "3c6fc39a-e717-400e-a7ae-3c37afa419eb",
   "metadata": {},
   "source": [
    "#### Preenchenco o envio do email"
   ]
  },
  {
   "cell_type": "code",
   "execution_count": 20,
   "id": "34b7620b-f8e0-4425-a268-c80165e0c155",
   "metadata": {},
   "outputs": [
    {
     "name": "stdout",
     "output_type": "stream",
     "text": [
      "Requirement already satisfied: pyautogui in c:\\users\\gabriel\\anaconda3\\lib\\site-packages (0.9.54)\n",
      "Requirement already satisfied: pymsgbox in c:\\users\\gabriel\\anaconda3\\lib\\site-packages (from pyautogui) (1.0.9)\n",
      "Requirement already satisfied: pytweening>=1.0.4 in c:\\users\\gabriel\\anaconda3\\lib\\site-packages (from pyautogui) (1.2.0)\n",
      "Requirement already satisfied: pyscreeze>=0.1.21 in c:\\users\\gabriel\\anaconda3\\lib\\site-packages (from pyautogui) (1.0.1)\n",
      "Requirement already satisfied: pygetwindow>=0.0.5 in c:\\users\\gabriel\\anaconda3\\lib\\site-packages (from pyautogui) (0.0.9)\n",
      "Requirement already satisfied: mouseinfo in c:\\users\\gabriel\\anaconda3\\lib\\site-packages (from pyautogui) (0.1.3)\n",
      "Requirement already satisfied: pyrect in c:\\users\\gabriel\\anaconda3\\lib\\site-packages (from pygetwindow>=0.0.5->pyautogui) (0.2.0)\n",
      "Requirement already satisfied: Pillow>=9.3.0 in c:\\users\\gabriel\\anaconda3\\lib\\site-packages (from pyscreeze>=0.1.21->pyautogui) (10.2.0)\n",
      "Requirement already satisfied: pyperclip in c:\\users\\gabriel\\anaconda3\\lib\\site-packages (from mouseinfo->pyautogui) (1.9.0)\n",
      "Requirement already satisfied: pyperclip in c:\\users\\gabriel\\anaconda3\\lib\\site-packages (1.9.0)\n"
     ]
    }
   ],
   "source": [
    "!pip install pyautogui\n",
    "!pip install pyperclip"
   ]
  },
  {
   "cell_type": "code",
   "execution_count": 25,
   "id": "eb7bec22-e1de-4b6e-8765-23037dd92171",
   "metadata": {},
   "outputs": [],
   "source": [
    "import pyautogui\n",
    "import pyperclip\n",
    "import time"
   ]
  },
  {
   "cell_type": "markdown",
   "id": "9603f302-2e41-4cbd-82f0-a1fd8675aabc",
   "metadata": {},
   "source": [
    "#### Preenchenco o envio do email"
   ]
  },
  {
   "cell_type": "code",
   "execution_count": 93,
   "id": "0eed49a6-5b29-4c4f-bf94-2da61f5b9bd0",
   "metadata": {},
   "outputs": [],
   "source": [
    "pyautogui.PAUSE = 5\n",
    "\n",
    "pyautogui.hotkey(\"ctrl\", \"t\")\n",
    "pyperclip.copy(\"www.gmail.com\")\n",
    "pyautogui.hotkey(\"ctrl\", \"v\")\n",
    "pyautogui.hotkey(\"enter\")\n",
    "\n",
    "pyautogui.click(x=86, y=199)\n",
    "pyperclip.copy(\"gabferreira333@gmail.com\")\n",
    "pyautogui.hotkey(\"ctrl\", \"v\")\n",
    "pyautogui.hotkey(\"enter\")\n",
    "pyautogui.click(x=807, y=368)\n",
    "pyperclip.copy(\"Novas informaçoes do clima!\")\n",
    "pyautogui.hotkey(\"ctrl\", \"v\")\n",
    "pyautogui.click(x=1019, y=506)\n",
    "pyperclip.copy(body)\n",
    "pyautogui.hotkey(\"ctrl\", \"v\")\n",
    "pyautogui.click(x=844, y=685)"
   ]
  },
  {
   "cell_type": "code",
   "execution_count": 83,
   "id": "9b01c333-273b-4a9b-b733-3976f1988785",
   "metadata": {},
   "outputs": [
    {
     "data": {
      "text/plain": [
       "Point(x=1019, y=506)"
      ]
     },
     "execution_count": 83,
     "metadata": {},
     "output_type": "execute_result"
    }
   ],
   "source": [
    "pyautogui.position()"
   ]
  }
 ],
 "metadata": {
  "kernelspec": {
   "display_name": "Python 3 (ipykernel)",
   "language": "python",
   "name": "python3"
  },
  "language_info": {
   "codemirror_mode": {
    "name": "ipython",
    "version": 3
   },
   "file_extension": ".py",
   "mimetype": "text/x-python",
   "name": "python",
   "nbconvert_exporter": "python",
   "pygments_lexer": "ipython3",
   "version": "3.11.7"
  }
 },
 "nbformat": 4,
 "nbformat_minor": 5
}
