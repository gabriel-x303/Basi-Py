{
 "cells": [
  {
   "cell_type": "markdown",
   "id": "6601160b-0976-4516-80ae-e402ff9e3088",
   "metadata": {},
   "source": [
    "# Automação de processos - Email automático\\Clima"
   ]
  },
  {
   "cell_type": "code",
   "execution_count": 2,
   "id": "97dd5f29-ca27-42e2-b12a-19d3f120b14c",
   "metadata": {},
   "outputs": [
    {
     "name": "stdout",
     "output_type": "stream",
     "text": [
      "Requirement already satisfied: requests in c:\\users\\gabriel\\anaconda3\\lib\\site-packages (2.31.0)\n",
      "Requirement already satisfied: charset-normalizer<4,>=2 in c:\\users\\gabriel\\anaconda3\\lib\\site-packages (from requests) (2.0.4)\n",
      "Requirement already satisfied: idna<4,>=2.5 in c:\\users\\gabriel\\anaconda3\\lib\\site-packages (from requests) (3.4)\n",
      "Requirement already satisfied: urllib3<3,>=1.21.1 in c:\\users\\gabriel\\anaconda3\\lib\\site-packages (from requests) (2.0.7)\n",
      "Requirement already satisfied: certifi>=2017.4.17 in c:\\users\\gabriel\\anaconda3\\lib\\site-packages (from requests) (2024.7.4)\n"
     ]
    }
   ],
   "source": [
    "!pip install requests"
   ]
  },
  {
   "cell_type": "code",
   "execution_count": 4,
   "id": "b7706575-df4b-4a84-92cc-9a524607f703",
   "metadata": {},
   "outputs": [],
   "source": [
    "import requests"
   ]
  },
  {
   "cell_type": "code",
   "execution_count": 12,
   "id": "c412d046-093c-43fa-af3e-eb88b34df1c7",
   "metadata": {},
   "outputs": [],
   "source": [
    "city = \"Itarema\"\n",
    "api_key = \"1e0ccf6dc06072e3cf91ff5b05cbf4e2\"\n",
    "address = f\"https://api.openweathermap.org/data/2.5/weather?q={city}&appid={api_key}\""
   ]
  },
  {
   "cell_type": "code",
   "execution_count": 14,
   "id": "e8f2856a-0296-4750-943d-8039658b5edc",
   "metadata": {},
   "outputs": [],
   "source": [
    "rqt = requests.get(address)"
   ]
  },
  {
   "cell_type": "code",
   "execution_count": 20,
   "id": "5fd5b0e2-40ef-4887-b46d-5ceddbfba710",
   "metadata": {},
   "outputs": [
    {
     "name": "stdout",
     "output_type": "stream",
     "text": [
      "{'coord': {'lon': -39.9167, 'lat': -2.9248}, 'weather': [{'id': 800, 'main': 'Clear', 'description': 'clear sky', 'icon': '01d'}], 'base': 'stations', 'main': {'temp': 301.91, 'feels_like': 304.08, 'temp_min': 301.91, 'temp_max': 301.91, 'pressure': 1013, 'humidity': 62, 'sea_level': 1013, 'grnd_level': 1011}, 'visibility': 10000, 'wind': {'speed': 8.77, 'deg': 86, 'gust': 10.71}, 'clouds': {'all': 0}, 'dt': 1724175322, 'sys': {'country': 'BR', 'sunrise': 1724143337, 'sunset': 1724186640}, 'timezone': -10800, 'id': 3408368, 'name': 'Itarema', 'cod': 200}\n"
     ]
    }
   ],
   "source": [
    "print(rqt.json())"
   ]
  },
  {
   "cell_type": "code",
   "execution_count": 43,
   "id": "73f52f26-058f-4706-a928-3d8a919293bc",
   "metadata": {},
   "outputs": [
    {
     "data": {
      "text/plain": [
       "dict"
      ]
     },
     "execution_count": 43,
     "metadata": {},
     "output_type": "execute_result"
    }
   ],
   "source": [
    "rqt_dic = rqt.json()\n",
    "type(rqt_dic)"
   ]
  }
 ],
 "metadata": {
  "kernelspec": {
   "display_name": "Python 3 (ipykernel)",
   "language": "python",
   "name": "python3"
  },
  "language_info": {
   "codemirror_mode": {
    "name": "ipython",
    "version": 3
   },
   "file_extension": ".py",
   "mimetype": "text/x-python",
   "name": "python",
   "nbconvert_exporter": "python",
   "pygments_lexer": "ipython3",
   "version": "3.11.7"
  }
 },
 "nbformat": 4,
 "nbformat_minor": 5
}
