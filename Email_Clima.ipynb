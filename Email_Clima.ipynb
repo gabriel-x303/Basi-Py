{
 "cells": [
  {
   "cell_type": "markdown",
   "id": "6601160b-0976-4516-80ae-e402ff9e3088",
   "metadata": {},
   "source": [
    "# Automação de processos - Email automático\\Clima"
   ]
  },
  {
   "cell_type": "code",
   "execution_count": 279,
   "id": "b7706575-df4b-4a84-92cc-9a524607f703",
   "metadata": {},
   "outputs": [],
   "source": [
    "import requests\n",
    "import datetime\n",
    "import locale"
   ]
  },
  {
   "cell_type": "code",
   "execution_count": 301,
   "id": "b02e3c62-66c2-4acc-bc0f-7d6ee503796b",
   "metadata": {},
   "outputs": [
    {
     "name": "stdin",
     "output_type": "stream",
     "text": [
      "Nome da cidade: Almofala\n"
     ]
    },
    {
     "name": "stdout",
     "output_type": "stream",
     "text": [
      "Data e hora: 22\\08\\24 (qui) - 20:55:33\n",
      "Cidade: Almofala\n",
      "Status: céu limpo\n",
      "Teperatura: 16.84°\n",
      "Temperatura mínima: 16.84°\n",
      "Temperatura máxima: 16.84°\n",
      "Sensação témica: 16.04°\n",
      "Humidade do ar: 56%\n",
      "Pressão atmosférica: 1016 hpa\n",
      "Velocidade do vento: 1.52 km\\h\n"
     ]
    }
   ],
   "source": [
    "city = input(\"Nome da cidade:\")\n",
    "api_key = \"1e0ccf6dc06072e3cf91ff5b05cbf4e2\"\n",
    "address = f\"https://api.openweathermap.org/data/2.5/weather?q={city}&appid={api_key}&lang=pt_br&units=metric\"\n",
    "\n",
    "rqt = requests.get(address)\n",
    "rqt_dic = rqt.json()\n",
    "\n",
    "locale.setlocale(locale.LC_TIME, 'pt_BR.UTF-8')\n",
    "date_time = datetime.datetime.now()\n",
    "formated_date = date_time.strftime('%d\\%m\\%y (%a) - %H:%M:%S')\n",
    "\n",
    "main_status = rqt_dic.get('weather')[0]['description']\n",
    "temp_status = rqt_dic.get('main')['temp']\n",
    "temp_min_status = rqt_dic.get('main')['temp_min']\n",
    "temp_max_status = rqt_dic.get('main')['temp_max']\n",
    "feels_like_status = rqt_dic.get('main')['feels_like']\n",
    "humidity_status = rqt_dic.get('main')['humidity']\n",
    "pressure_status = rqt_dic.get('main')['pressure']\n",
    "wind_status = rqt_dic.get('wind')['speed']\n",
    "\n",
    "print(f\"Data e hora: {formated_date}\")\n",
    "print(f\"Cidade: {city}\")\n",
    "print(f\"Status: {main_status}\")\n",
    "print(f\"Teperatura: {temp_status}°\")\n",
    "print(f\"Temperatura mínima: {temp_min_status}°\")\n",
    "print(f\"Temperatura máxima: {temp_max_status}°\")\n",
    "print(f\"Sensação témica: {feels_like_status}°\")\n",
    "print(f\"Humidade do ar: {humidity_status}%\")\n",
    "print(f\"Pressão atmosférica: {pressure_status} hpa\")\n",
    "print(f\"Velocidade do vento: {wind_status} km\\h\")"
   ]
  }
 ],
 "metadata": {
  "kernelspec": {
   "display_name": "Python 3 (ipykernel)",
   "language": "python",
   "name": "python3"
  },
  "language_info": {
   "codemirror_mode": {
    "name": "ipython",
    "version": 3
   },
   "file_extension": ".py",
   "mimetype": "text/x-python",
   "name": "python",
   "nbconvert_exporter": "python",
   "pygments_lexer": "ipython3",
   "version": "3.11.7"
  }
 },
 "nbformat": 4,
 "nbformat_minor": 5
}
