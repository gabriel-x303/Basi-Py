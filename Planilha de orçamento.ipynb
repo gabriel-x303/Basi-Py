{
 "cells": [
  {
   "cell_type": "markdown",
   "id": "e3b12ec7-40dd-4122-bb63-af58c2b99224",
   "metadata": {},
   "source": [
    "# Planilha de orçamento - Jardinagem Verdejante"
   ]
  },
  {
   "cell_type": "markdown",
   "id": "c766dbfa-bfd3-4375-b01f-03696d3cea19",
   "metadata": {},
   "source": [
    "# 1-Entrada de dados:"
   ]
  },
  {
   "cell_type": "code",
   "execution_count": 4,
   "id": "f8ce861f-df45-4ee6-9654-899bf536a8b8",
   "metadata": {},
   "outputs": [
    {
     "name": "stdout",
     "output_type": "stream",
     "text": [
      "Nome do cliente:\n",
      "Quantidade de horas de serviço:\n",
      "quantidade de horas de máquina:\n"
     ]
    }
   ],
   "source": [
    "### Comando de saída\n",
    "\n",
    "print (\"Nome do cliente:\")\n",
    "print (\"Quantidade de horas de serviço:\")\n",
    "print (\"quantidade de horas de máquina:\")"
   ]
  },
  {
   "cell_type": "code",
   "execution_count": 5,
   "id": "1245519d-eb44-4bff-b223-07bbaf6c91a7",
   "metadata": {},
   "outputs": [
    {
     "name": "stdin",
     "output_type": "stream",
     "text": [
      "Nome do cliente: 3\n",
      "Quantidade de hora de serviço: 2\n",
      "quantidade de hora de máquina: 5\n"
     ]
    },
    {
     "data": {
      "text/plain": [
       "'5'"
      ]
     },
     "execution_count": 5,
     "metadata": {},
     "output_type": "execute_result"
    }
   ],
   "source": [
    "### Comando de entrada\n",
    "\n",
    "input (\"Nome do cliente:\")\n",
    "input (\"Quantidade de hora de serviço:\")\n",
    "input (\"quantidade de hora de máquina:\")"
   ]
  },
  {
   "cell_type": "code",
   "execution_count": 6,
   "id": "380c42df-cbc5-4d82-8eaa-ae40c5ec53c9",
   "metadata": {},
   "outputs": [
    {
     "name": "stdin",
     "output_type": "stream",
     "text": [
      "Nome do cliente: Gabriel\n",
      "Quantidade de horas de serviço: 3\n",
      "quantidade de horas de máquina: 2\n"
     ]
    }
   ],
   "source": [
    "### Variáveis\n",
    "\n",
    "nome_cl = input (\"Nome do cliente:\")\n",
    "horas_serv = int(input (\"Quantidade de horas de serviço:\"))\n",
    "horas_maq = int(input (\"quantidade de horas de máquina:\"))"
   ]
  },
  {
   "cell_type": "code",
   "execution_count": 7,
   "id": "e1d5dfaf-33a9-46df-9835-e746efb2559b",
   "metadata": {},
   "outputs": [
    {
     "name": "stdout",
     "output_type": "stream",
     "text": [
      "Gabriel\n",
      "3\n",
      "2\n"
     ]
    }
   ],
   "source": [
    "print (nome_cl)\n",
    "print (horas_serv)\n",
    "print (horas_maq)"
   ]
  },
  {
   "cell_type": "code",
   "execution_count": 8,
   "id": "11ec2c8d-282b-40c4-b87b-348e96e43502",
   "metadata": {},
   "outputs": [],
   "source": [
    "# 2-Efetuando Cálculos"
   ]
  },
  {
   "cell_type": "code",
   "execution_count": 9,
   "id": "f81baec2-677f-4879-932b-243fa5dbc15e",
   "metadata": {},
   "outputs": [],
   "source": [
    "valor_mdh = horas_serv * 80\n",
    "valor_maq = horas_maq * 30\n",
    "valor_total = valor_mdh + valor_maq"
   ]
  },
  {
   "cell_type": "code",
   "execution_count": 10,
   "id": "8b98de1b-ffc1-4c28-bb71-5c3d44fed85b",
   "metadata": {},
   "outputs": [
    {
     "name": "stdout",
     "output_type": "stream",
     "text": [
      "240\n",
      "60\n",
      "300\n"
     ]
    }
   ],
   "source": [
    "print (valor_mdh)\n",
    "print (valor_maq)\n",
    "print (valor_total)"
   ]
  },
  {
   "cell_type": "code",
   "execution_count": 11,
   "id": "2d3b6148-131a-48f3-9403-93096afc08bc",
   "metadata": {},
   "outputs": [],
   "source": [
    "# Intalando a biblioteca pdf"
   ]
  },
  {
   "cell_type": "code",
   "execution_count": 12,
   "id": "0397b72f-f40d-43a3-803f-ae4b064d7703",
   "metadata": {},
   "outputs": [
    {
     "name": "stdout",
     "output_type": "stream",
     "text": [
      "Requirement already satisfied: fpdf in c:\\users\\gabriel\\anaconda3\\lib\\site-packages (1.7.2)\n"
     ]
    }
   ],
   "source": [
    "### Instalção\n",
    "\n",
    "!pip install fpdf"
   ]
  },
  {
   "cell_type": "code",
   "execution_count": 35,
   "id": "5e8de6c9-8603-4371-a24e-9f1c54e92f9f",
   "metadata": {},
   "outputs": [],
   "source": [
    "### Importação\n",
    "\n",
    "####import fpdf\n",
    "from fpdf import FPDF"
   ]
  },
  {
   "cell_type": "code",
   "execution_count": 61,
   "id": "e3b5cd0b-0a79-42fa-91d0-0c6f4ff295c0",
   "metadata": {},
   "outputs": [
    {
     "data": {
      "text/plain": [
       "''"
      ]
     },
     "execution_count": 61,
     "metadata": {},
     "output_type": "execute_result"
    }
   ],
   "source": [
    "orçamento = FPDF()\n",
    "orçamento.add_page()\n",
    "orçamento.set_font(\"Arial\",\"B\")\n",
    "orçamento.image(\"Grama.jpg\",0,0,w=210, h=297)\n",
    "orçamento.output(\"Orçamento.pdf\")"
   ]
  },
  {
   "cell_type": "code",
   "execution_count": null,
   "id": "5e803492-9a79-4d2b-a478-4d87d9725317",
   "metadata": {},
   "outputs": [],
   "source": []
  }
 ],
 "metadata": {
  "kernelspec": {
   "display_name": "Python 3 (ipykernel)",
   "language": "python",
   "name": "python3"
  },
  "language_info": {
   "codemirror_mode": {
    "name": "ipython",
    "version": 3
   },
   "file_extension": ".py",
   "mimetype": "text/x-python",
   "name": "python",
   "nbconvert_exporter": "python",
   "pygments_lexer": "ipython3",
   "version": "3.11.7"
  }
 },
 "nbformat": 4,
 "nbformat_minor": 5
}
