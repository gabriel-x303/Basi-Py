{
 "cells": [
  {
   "cell_type": "markdown",
   "id": "e3b12ec7-40dd-4122-bb63-af58c2b99224",
   "metadata": {},
   "source": [
    "# Planilha de orçamento - Jardinagem Verdejante"
   ]
  },
  {
   "cell_type": "code",
   "execution_count": 2,
   "id": "5e8de6c9-8603-4371-a24e-9f1c54e92f9f",
   "metadata": {},
   "outputs": [],
   "source": [
    "### Importação\n",
    "\n",
    "from fpdf import FPDF"
   ]
  },
  {
   "cell_type": "code",
   "execution_count": 104,
   "id": "e3b5cd0b-0a79-42fa-91d0-0c6f4ff295c0",
   "metadata": {},
   "outputs": [
    {
     "name": "stdin",
     "output_type": "stream",
     "text": [
      "Nome do cliente: Gabriel\n",
      "Quantidade de horas de serviço: 3\n",
      "quantidade de horas de máquina: 2\n"
     ]
    },
    {
     "name": "stdout",
     "output_type": "stream",
     "text": [
      "Almofala-CE, 12 de Agosto de 2024\n"
     ]
    },
    {
     "data": {
      "text/plain": [
       "''"
      ]
     },
     "execution_count": 104,
     "metadata": {},
     "output_type": "execute_result"
    }
   ],
   "source": [
    "### Variáveis\n",
    "\n",
    "nome_cl = input (\"Nome do cliente:\")\n",
    "horas_serv = int(input (\"Quantidade de horas de serviço:\"))\n",
    "horas_maq = int(input (\"quantidade de horas de máquina:\"))\n",
    "\n",
    "### Cálculos\n",
    "\n",
    "valor_mdh = horas_serv * 80\n",
    "valor_maq = horas_maq * 30\n",
    "valor_total = str(valor_mdh + valor_maq)\n",
    "\n",
    "valor_mdh_str = str(valor_mdh)\n",
    "valor_maq_str = str(valor_maq)\n",
    "\n",
    "### Data e hora\n",
    "\n",
    "import datetime\n",
    "import locale\n",
    "\n",
    "locale.setlocale(locale.LC_TIME, 'pt_BR.UTF-8')\n",
    "data_atual = datetime.datetime.now()\n",
    "mes = data_atual.strftime('%B').capitalize()\n",
    "data_formatada = \"Almofala-CE, \" + data_atual.strftime('%d de {} de %Y'.format(mes))\n",
    "\n",
    "print(data_formatada)\n",
    "\n",
    "### O PDF\n",
    "\n",
    "orçamento = FPDF()\n",
    "orçamento.add_page()\n",
    "orçamento.set_font(\"Arial\", \"B\")\n",
    "orçamento.image(\"Grama.jpg\",0,0,w=210, h=297)\n",
    "orçamento.set_text_color(187,91,62)\n",
    "orçamento.text(68, 163, \"Nome do cliente: \" + nome_cl)\n",
    "orçamento.text(68, 173, \"Valor da mão de obra: R$\" + valor_mdh_str + \",00\")\n",
    "orçamento.text(68, 183, \"Valor do tempo de máquina: R$\" + valor_maq_str + \",00\")\n",
    "orçamento.text(68, 193, \"Valor dos materiais: Incluso no serviço\")\n",
    "orçamento.text(70, 250, data_formatada)\n",
    "orçamento.set_font_size(20)\n",
    "orçamento.text(68, 203, \"Valor total: R$\" + valor_total + \",00\")\n",
    "orçamento.output(\"Orçamento.pdf\")\n",
    "\n"
   ]
  }
 ],
 "metadata": {
  "kernelspec": {
   "display_name": "Python 3 (ipykernel)",
   "language": "python",
   "name": "python3"
  },
  "language_info": {
   "codemirror_mode": {
    "name": "ipython",
    "version": 3
   },
   "file_extension": ".py",
   "mimetype": "text/x-python",
   "name": "python",
   "nbconvert_exporter": "python",
   "pygments_lexer": "ipython3",
   "version": "3.11.7"
  }
 },
 "nbformat": 4,
 "nbformat_minor": 5
}
