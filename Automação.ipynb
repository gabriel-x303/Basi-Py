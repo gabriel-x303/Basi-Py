{
 "cells": [
  {
   "cell_type": "markdown",
   "id": "b56d4f45-ae5e-44aa-9685-a6803db359b3",
   "metadata": {},
   "source": [
    "### Estrutura FOR"
   ]
  },
  {
   "cell_type": "code",
   "execution_count": 2,
   "id": "be2f1447-7547-4e23-954f-c3d14a857fa9",
   "metadata": {},
   "outputs": [
    {
     "name": "stdout",
     "output_type": "stream",
     "text": [
      "0\n",
      "1\n",
      "2\n",
      "3\n",
      "4\n"
     ]
    }
   ],
   "source": [
    "for x in range(5):\n",
    "    print(x)"
   ]
  },
  {
   "cell_type": "code",
   "execution_count": 3,
   "id": "871adb15-c04e-4b29-bcfc-e10e8f2f9c48",
   "metadata": {},
   "outputs": [
    {
     "name": "stdout",
     "output_type": "stream",
     "text": [
      "hoje\n",
      "amanhã dá certo\n",
      "depois de amanhã\n",
      " \n",
      "daqui à três dias é bom\n",
      "um mês depois o resultado\n"
     ]
    }
   ],
   "source": [
    "lista = [\"hoje\", \"amanhã dá certo\", \"depois de amanhã\", \" \", \"daqui à três dias é bom\", \"um mês depois o resultado\"]\n",
    "for y in lista:\n",
    "    print(y)"
   ]
  },
  {
   "cell_type": "code",
   "execution_count": 4,
   "id": "612f8404-7658-4dbd-a0e4-4bdf1e545369",
   "metadata": {},
   "outputs": [
    {
     "name": "stdout",
     "output_type": "stream",
     "text": [
      "hoje\n",
      "depois de amanhã\n",
      "daqui à três dias é bom\n"
     ]
    }
   ],
   "source": [
    "for j in range(0, 6, 2):\n",
    "    print(lista[j])"
   ]
  },
  {
   "cell_type": "code",
   "execution_count": 5,
   "id": "5ccdaf56-a252-4e0c-8297-c1861e231436",
   "metadata": {},
   "outputs": [
    {
     "name": "stdout",
     "output_type": "stream",
     "text": [
      "[]\n"
     ]
    }
   ],
   "source": [
    "lista2 = []\n",
    "print(lista2)"
   ]
  },
  {
   "cell_type": "code",
   "execution_count": 6,
   "id": "5e6fa9a5-706f-4630-9bae-26b9cf08cb4b",
   "metadata": {},
   "outputs": [],
   "source": [
    "lista2.append(\"Banana\")\n",
    "lista2.append(\"Maçã\")\n",
    "lista2.append(\"Pera\")"
   ]
  },
  {
   "cell_type": "code",
   "execution_count": 7,
   "id": "9132397b-a929-40fb-9eb3-cdb4da31febc",
   "metadata": {},
   "outputs": [
    {
     "name": "stdout",
     "output_type": "stream",
     "text": [
      "['Banana', 'Maçã', 'Pera']\n"
     ]
    }
   ],
   "source": [
    "print(lista2)"
   ]
  },
  {
   "cell_type": "code",
   "execution_count": 8,
   "id": "fe17fbf1-bfe8-4254-ba65-508653d46e40",
   "metadata": {},
   "outputs": [
    {
     "name": "stdout",
     "output_type": "stream",
     "text": [
      "['hoje', 'amanhã dá certo', 'depois de amanhã', ' ', 'daqui à três dias é bom', 'um mês depois o resultado', 'Diamante conquistado <3']\n"
     ]
    }
   ],
   "source": [
    "lista.append(\"Diamante conquistado <3\")\n",
    "print(lista)"
   ]
  },
  {
   "cell_type": "code",
   "execution_count": 9,
   "id": "c336a262-cc78-470e-8daa-ce51f91a8d0b",
   "metadata": {},
   "outputs": [
    {
     "name": "stdin",
     "output_type": "stream",
     "text": [
      "Nome de uma fruta: Maçã\n",
      "Nome de uma fruta: Goiaba\n",
      "Nome de uma fruta: Banana\n",
      "Nome de uma fruta: Pera\n",
      "Nome de uma fruta: Uva\n"
     ]
    }
   ],
   "source": [
    "for x in range(5):\n",
    "    fruta = input(\"Nome de uma fruta:\")"
   ]
  },
  {
   "cell_type": "code",
   "execution_count": 10,
   "id": "a17d2a85-0673-4988-bca6-7c0798e6b2d9",
   "metadata": {},
   "outputs": [
    {
     "name": "stdin",
     "output_type": "stream",
     "text": [
      "Nome de uma fruta: Maçâ\n",
      "Nome de uma fruta: Goiaba\n",
      "Nome de uma fruta: Banana\n",
      "Nome de uma fruta: Pera\n",
      "Nome de uma fruta: Uva\n"
     ]
    }
   ],
   "source": [
    "lista_fruta = []\n",
    "for x in range(5):\n",
    "    lista_fruta.append(input(\"Nome de uma fruta:\"))"
   ]
  },
  {
   "cell_type": "code",
   "execution_count": 11,
   "id": "3e7c5dfd-93b9-4229-879c-a0c7f80bd62e",
   "metadata": {},
   "outputs": [
    {
     "name": "stdout",
     "output_type": "stream",
     "text": [
      "['Maçâ', 'Goiaba', 'Banana', 'Pera', 'Uva']\n"
     ]
    }
   ],
   "source": [
    "print(lista_fruta)"
   ]
  },
  {
   "cell_type": "markdown",
   "id": "6d206865-4cb6-4836-bb3b-193ad8266067",
   "metadata": {},
   "source": [
    "# Dicionário"
   ]
  },
  {
   "cell_type": "code",
   "execution_count": 13,
   "id": "a47484a5-e304-45a3-8a0f-8c25d16fab5a",
   "metadata": {},
   "outputs": [
    {
     "name": "stdout",
     "output_type": "stream",
     "text": [
      "{'Nome': 'Gabriel', 'Idade': 22, 'Sexo': 'Masculino'}\n"
     ]
    }
   ],
   "source": [
    "dados_pessoais = {\"Nome\":\"Gabriel\", \"Idade\":22, \"Sexo\":\"Masculino\"}\n",
    "print(dados_pessoais)"
   ]
  },
  {
   "cell_type": "code",
   "execution_count": 14,
   "id": "41703177-77b9-42cd-ae1a-e0797483448e",
   "metadata": {},
   "outputs": [
    {
     "data": {
      "text/plain": [
       "'Gabriel'"
      ]
     },
     "execution_count": 14,
     "metadata": {},
     "output_type": "execute_result"
    }
   ],
   "source": [
    "dados_pessoais.get(\"Nome\")"
   ]
  },
  {
   "cell_type": "code",
   "execution_count": 35,
   "id": "fd1b3c4f-732c-494e-85a8-1b165c479536",
   "metadata": {},
   "outputs": [
    {
     "name": "stdin",
     "output_type": "stream",
     "text": [
      "Informe seu nome: Gabriel\n",
      "Informe sua idade: 23\n",
      "Informe seu sexo: Masculino\n"
     ]
    }
   ],
   "source": [
    "var_nome = input(\"Informe seu nome:\")\n",
    "var_idade = input(\"Informe sua idade:\")\n",
    "var_sexo = input(\"Informe seu sexo:\")"
   ]
  },
  {
   "cell_type": "code",
   "execution_count": 16,
   "id": "2ee3ebdb-f442-4400-95d0-cdcdbec0794c",
   "metadata": {},
   "outputs": [],
   "source": [
    "dados_pessoais = {\"Nome\":var_nome, \"Idade\":var_idade, \"Sexo\":var_sexo}"
   ]
  },
  {
   "cell_type": "code",
   "execution_count": 17,
   "id": "7dee2f7d-24f8-4c28-846d-52ddd5decbbb",
   "metadata": {},
   "outputs": [
    {
     "name": "stdin",
     "output_type": "stream",
     "text": [
      "Dado a ser consultado: Idade\n"
     ]
    },
    {
     "data": {
      "text/plain": [
       "'22'"
      ]
     },
     "execution_count": 17,
     "metadata": {},
     "output_type": "execute_result"
    }
   ],
   "source": [
    "dados_pessoais.get(input(\"Dado a ser consultado:\"))"
   ]
  },
  {
   "cell_type": "code",
   "execution_count": 43,
   "id": "d832e7f1-236e-4997-a5dd-7c0eba3ede3b",
   "metadata": {},
   "outputs": [
    {
     "name": "stdin",
     "output_type": "stream",
     "text": [
      "Informe o nome do 1º aluno: Gabriel\n",
      "Informe idade: 25\n",
      "Informe sexo: Masc\n",
      "Informe o nome do 2º aluno: Pedro\n",
      "Informe idade: 52\n",
      "Informe sexo: Masc\n",
      "Informe o nome do 3º aluno: Yara\n",
      "Informe idade: 24\n",
      "Informe sexo: Fem\n"
     ]
    }
   ],
   "source": [
    "alunos = []\n",
    "for x in range(3):\n",
    "    var_nome = input(f\"Informe o nome do {x+1}º aluno:\")\n",
    "    var_idade = input(\"Informe idade:\")\n",
    "    var_sexo = input(\"Informe sexo:\")\n",
    "    dados_pessoais = {\"Nome\":var_nome, \"Idade\":var_idade, \"sexo\":var_sexo}\n",
    "    alunos.append(dados_pessoais)"
   ]
  },
  {
   "cell_type": "code",
   "execution_count": 49,
   "id": "54387b6c-c1c3-49a3-b865-1f7691e7556b",
   "metadata": {},
   "outputs": [
    {
     "name": "stdout",
     "output_type": "stream",
     "text": [
      "{'Nome': 'Gabriel', 'Idade': '25', 'sexo': 'Masc'}\n",
      "{'Nome': 'Pedro', 'Idade': '52', 'sexo': 'Masc'}\n",
      "{'Nome': 'Yara', 'Idade': '24', 'sexo': 'Fem'}\n"
     ]
    }
   ],
   "source": [
    "for x in alunos:\n",
    "    print(x)"
   ]
  },
  {
   "cell_type": "code",
   "execution_count": 55,
   "id": "bcbfa5bc-9852-4687-84e8-762935dfe983",
   "metadata": {},
   "outputs": [
    {
     "data": {
      "text/plain": [
       "[{'Nome': 'Gabriel', 'Idade': '25', 'sexo': 'Masc'},\n",
       " {'Nome': 'Pedro', 'Idade': '52', 'sexo': 'Masc'},\n",
       " {'Nome': 'Yara', 'Idade': '24', 'sexo': 'Fem'}]"
      ]
     },
     "execution_count": 55,
     "metadata": {},
     "output_type": "execute_result"
    }
   ],
   "source": [
    "alunos"
   ]
  },
  {
   "cell_type": "code",
   "execution_count": 117,
   "id": "e84171b5-3504-412a-99fe-ecb071d22303",
   "metadata": {},
   "outputs": [
    {
     "name": "stdout",
     "output_type": "stream",
     "text": [
      "Gabriel\n",
      "25\n",
      "None\n"
     ]
    }
   ],
   "source": [
    "print(alunos[0].get(\"Nome\"))\n",
    "print(alunos[0].get(\"Idade\"))\n",
    "print(alunos[0].get(\"Sexo\"))"
   ]
  }
 ],
 "metadata": {
  "kernelspec": {
   "display_name": "Python 3 (ipykernel)",
   "language": "python",
   "name": "python3"
  },
  "language_info": {
   "codemirror_mode": {
    "name": "ipython",
    "version": 3
   },
   "file_extension": ".py",
   "mimetype": "text/x-python",
   "name": "python",
   "nbconvert_exporter": "python",
   "pygments_lexer": "ipython3",
   "version": "3.11.7"
  }
 },
 "nbformat": 4,
 "nbformat_minor": 5
}
