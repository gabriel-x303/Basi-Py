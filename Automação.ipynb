{
 "cells": [
  {
   "cell_type": "markdown",
   "id": "b56d4f45-ae5e-44aa-9685-a6803db359b3",
   "metadata": {},
   "source": [
    "### Estrutura FOR"
   ]
  },
  {
   "cell_type": "code",
   "execution_count": 56,
   "id": "be2f1447-7547-4e23-954f-c3d14a857fa9",
   "metadata": {},
   "outputs": [
    {
     "name": "stdout",
     "output_type": "stream",
     "text": [
      "0\n",
      "1\n",
      "2\n",
      "3\n",
      "4\n"
     ]
    }
   ],
   "source": [
    "for x in range(5):\n",
    "    print(x)"
   ]
  },
  {
   "cell_type": "code",
   "execution_count": 76,
   "id": "871adb15-c04e-4b29-bcfc-e10e8f2f9c48",
   "metadata": {},
   "outputs": [
    {
     "name": "stdout",
     "output_type": "stream",
     "text": [
      "hoje\n",
      "amanhã dá certo\n",
      "depois de amanhã\n",
      " \n",
      "daqui à três dias é bom\n",
      "um mês depois o resultado\n"
     ]
    }
   ],
   "source": [
    "lista = (\"hoje\", \"amanhã dá certo\", \"depois de amanhã\", \" \", \"daqui à três dias é bom\", \"um mês depois o resultado\")\n",
    "for y in lista:\n",
    "    print(y)"
   ]
  },
  {
   "cell_type": "code",
   "execution_count": 94,
   "id": "612f8404-7658-4dbd-a0e4-4bdf1e545369",
   "metadata": {},
   "outputs": [
    {
     "name": "stdout",
     "output_type": "stream",
     "text": [
      "hoje\n",
      "depois de amanhã\n",
      "daqui à três dias é bom\n"
     ]
    }
   ],
   "source": [
    "for j in range(0, 6, 2):\n",
    "    print(lista[j])"
   ]
  }
 ],
 "metadata": {
  "kernelspec": {
   "display_name": "Python 3 (ipykernel)",
   "language": "python",
   "name": "python3"
  },
  "language_info": {
   "codemirror_mode": {
    "name": "ipython",
    "version": 3
   },
   "file_extension": ".py",
   "mimetype": "text/x-python",
   "name": "python",
   "nbconvert_exporter": "python",
   "pygments_lexer": "ipython3",
   "version": "3.11.7"
  }
 },
 "nbformat": 4,
 "nbformat_minor": 5
}
