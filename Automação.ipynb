{
 "cells": [
  {
   "cell_type": "markdown",
   "id": "b56d4f45-ae5e-44aa-9685-a6803db359b3",
   "metadata": {},
   "source": [
    "### Estrutura FOR"
   ]
  },
  {
   "cell_type": "code",
   "execution_count": 2,
   "id": "be2f1447-7547-4e23-954f-c3d14a857fa9",
   "metadata": {},
   "outputs": [
    {
     "name": "stdout",
     "output_type": "stream",
     "text": [
      "0\n",
      "1\n",
      "2\n",
      "3\n",
      "4\n"
     ]
    }
   ],
   "source": [
    "for x in range(5):\n",
    "    print(x)"
   ]
  },
  {
   "cell_type": "code",
   "execution_count": 16,
   "id": "871adb15-c04e-4b29-bcfc-e10e8f2f9c48",
   "metadata": {},
   "outputs": [
    {
     "name": "stdout",
     "output_type": "stream",
     "text": [
      "hoje\n",
      "amanhã dá certo\n",
      "depois de amanhã\n",
      " \n",
      "daqui à três dias é bom\n",
      "um mês depois o resultado\n"
     ]
    }
   ],
   "source": [
    "lista = [\"hoje\", \"amanhã dá certo\", \"depois de amanhã\", \" \", \"daqui à três dias é bom\", \"um mês depois o resultado\"]\n",
    "for y in lista:\n",
    "    print(y)"
   ]
  },
  {
   "cell_type": "code",
   "execution_count": 18,
   "id": "612f8404-7658-4dbd-a0e4-4bdf1e545369",
   "metadata": {},
   "outputs": [
    {
     "name": "stdout",
     "output_type": "stream",
     "text": [
      "hoje\n",
      "depois de amanhã\n",
      "daqui à três dias é bom\n"
     ]
    }
   ],
   "source": [
    "for j in range(0, 6, 2):\n",
    "    print(lista[j])"
   ]
  },
  {
   "cell_type": "code",
   "execution_count": 20,
   "id": "5ccdaf56-a252-4e0c-8297-c1861e231436",
   "metadata": {},
   "outputs": [
    {
     "name": "stdout",
     "output_type": "stream",
     "text": [
      "[]\n"
     ]
    }
   ],
   "source": [
    "lista2 = []\n",
    "print(lista2)"
   ]
  },
  {
   "cell_type": "code",
   "execution_count": 22,
   "id": "5e6fa9a5-706f-4630-9bae-26b9cf08cb4b",
   "metadata": {},
   "outputs": [],
   "source": [
    "lista2.append(\"Banana\")\n",
    "lista2.append(\"Maçã\")\n",
    "lista2.append(\"Pera\")"
   ]
  },
  {
   "cell_type": "code",
   "execution_count": 24,
   "id": "9132397b-a929-40fb-9eb3-cdb4da31febc",
   "metadata": {},
   "outputs": [
    {
     "name": "stdout",
     "output_type": "stream",
     "text": [
      "['Banana', 'Maçã', 'Pera']\n"
     ]
    }
   ],
   "source": [
    "print(lista2)"
   ]
  },
  {
   "cell_type": "code",
   "execution_count": 26,
   "id": "fe17fbf1-bfe8-4254-ba65-508653d46e40",
   "metadata": {},
   "outputs": [
    {
     "name": "stdout",
     "output_type": "stream",
     "text": [
      "['hoje', 'amanhã dá certo', 'depois de amanhã', ' ', 'daqui à três dias é bom', 'um mês depois o resultado', 'Diamante conquistado <3']\n"
     ]
    }
   ],
   "source": [
    "lista.append(\"Diamante conquistado <3\")\n",
    "print(lista)"
   ]
  },
  {
   "cell_type": "code",
   "execution_count": 36,
   "id": "c336a262-cc78-470e-8daa-ce51f91a8d0b",
   "metadata": {},
   "outputs": [
    {
     "name": "stdin",
     "output_type": "stream",
     "text": [
      "Nome de uma fruta: Banana\n",
      "Nome de uma fruta: Pera\n",
      "Nome de uma fruta: Uva\n",
      "Nome de uma fruta: Maçã\n",
      "Nome de uma fruta: Goiaba\n"
     ]
    }
   ],
   "source": [
    "for x in range(5):\n",
    "    fruta = input(\"Nome de uma fruta:\")"
   ]
  },
  {
   "cell_type": "code",
   "execution_count": 48,
   "id": "a17d2a85-0673-4988-bca6-7c0798e6b2d9",
   "metadata": {},
   "outputs": [
    {
     "name": "stdin",
     "output_type": "stream",
     "text": [
      "Nome de uma fruta: Maçã\n",
      "Nome de uma fruta: Banana\n",
      "Nome de uma fruta: uva\n",
      "Nome de uma fruta: Pera\n",
      "Nome de uma fruta: Limão\n"
     ]
    }
   ],
   "source": [
    "lista_fruta = []\n",
    "for x in range(5):\n",
    "    lista_fruta.append(input(\"Nome de uma fruta:\"))"
   ]
  },
  {
   "cell_type": "code",
   "execution_count": 50,
   "id": "3e7c5dfd-93b9-4229-879c-a0c7f80bd62e",
   "metadata": {},
   "outputs": [
    {
     "name": "stdout",
     "output_type": "stream",
     "text": [
      "['Maçã', 'Banana', 'uva', 'Pera', 'Limão']\n"
     ]
    }
   ],
   "source": [
    "print(lista_fruta)"
   ]
  }
 ],
 "metadata": {
  "kernelspec": {
   "display_name": "Python 3 (ipykernel)",
   "language": "python",
   "name": "python3"
  },
  "language_info": {
   "codemirror_mode": {
    "name": "ipython",
    "version": 3
   },
   "file_extension": ".py",
   "mimetype": "text/x-python",
   "name": "python",
   "nbconvert_exporter": "python",
   "pygments_lexer": "ipython3",
   "version": "3.11.7"
  }
 },
 "nbformat": 4,
 "nbformat_minor": 5
}
